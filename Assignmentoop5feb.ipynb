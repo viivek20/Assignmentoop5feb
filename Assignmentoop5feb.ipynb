{
 "cells": [
  {
   "cell_type": "markdown",
   "id": "b18da934-c501-4dc5-8d64-b23037609521",
   "metadata": {},
   "source": [
    "Q3. Explain why the __init__() function is used. Give a suitable example."
   ]
  },
  {
   "cell_type": "code",
   "execution_count": 2,
   "id": "4348362a-f176-4753-9cbe-a03b155872ba",
   "metadata": {},
   "outputs": [],
   "source": [
    "class gtb :\n",
    "    \n",
    "    def __init__(dilshad , phone_no , flat_no , floor_no , owner_name ) :\n",
    "        dilshad.phone_no1=phone_no\n",
    "        dilshad.owner_name1=owner_name\n",
    "        dilshad.flat_no1 =flat_no \n",
    "        dilshad.floor_no1 =floor_no\n",
    "    def return_colony_detail(dilshad) :\n",
    "        return dilshad.owner_name1 , dilshad.phone_no1 , dilshad.flat_no1 ,dilshad.floor_no1"
   ]
  },
  {
   "cell_type": "code",
   "execution_count": 3,
   "id": "e1ca5b9e-f088-451f-92cb-4a9e8a8fff2d",
   "metadata": {},
   "outputs": [],
   "source": [
    "vivek1=gtb(10000000 , 123, 556 ,\"dinesh\")"
   ]
  },
  {
   "cell_type": "code",
   "execution_count": 4,
   "id": "1052f8e7-f82f-4797-8e40-2f04fc906ca5",
   "metadata": {},
   "outputs": [
    {
     "data": {
      "text/plain": [
       "('dinesh', 10000000, 123, 556)"
      ]
     },
     "execution_count": 4,
     "metadata": {},
     "output_type": "execute_result"
    }
   ],
   "source": [
    "vivek1.return_colony_detail()"
   ]
  },
  {
   "cell_type": "code",
   "execution_count": null,
   "id": "8e5f0a90-6f63-4973-b22e-a5d3672240dc",
   "metadata": {},
   "outputs": [],
   "source": [
    "question:-2 Name the four pillars of OOPs."
   ]
  },
  {
   "cell_type": "code",
   "execution_count": null,
   "id": "577608fa-86a2-40f2-a3c3-9ce13c7ab486",
   "metadata": {},
   "outputs": [],
   "source": [
    "answer:- Inheritance, Polymorphism, Encapsulation and Abstraction."
   ]
  },
  {
   "cell_type": "code",
   "execution_count": null,
   "id": "1eeb5a2a-fc3d-4a4e-b32b-dcdb8cf34980",
   "metadata": {},
   "outputs": [],
   "source": [
    "question 5 What is inheritance? Give an example for each type of inheritance."
   ]
  },
  {
   "cell_type": "markdown",
   "id": "f06a582e-41a1-4ac8-bc85-695c5cff8fa7",
   "metadata": {},
   "source": [
    "answer:- \n",
    "Inheritance allows us to define a class that inherits all the methods and properties from another class.\n",
    "\n",
    "Parent class is the class being inherited from, also called base class.\n",
    "\n",
    "Child class is the class that inherits from another class, also called derived class.\n",
    "\n",
    "class Person:\n",
    "  def __init__(self, fname, lname):\n",
    "    self.firstname = fname\n",
    "    self.lastname = lname\n",
    "\n",
    "  def printname(self):\n",
    "    print(self.firstname, self.lastname)\n",
    "\n",
    "#Use the Person class to create an object, and then execute the printname method:\n",
    "\n",
    "x = Person(\"John\", \"Doe\")\n",
    "x.printname()"
   ]
  },
  {
   "cell_type": "code",
   "execution_count": null,
   "id": "987e4bc9-70f9-40ba-9ef3-87498b7295fd",
   "metadata": {},
   "outputs": [],
   "source": [
    "qustion:1 :- Explain Class and Object with respect to Object-Oriented Programming. Give a suitable example."
   ]
  },
  {
   "cell_type": "code",
   "execution_count": null,
   "id": "e0a91bd2-4b8c-4168-85a2-14c2a9b3b62a",
   "metadata": {},
   "outputs": [],
   "source": [
    "class MyClass:\n",
    "  x = 5\n",
    "\n",
    "print(MyClass)"
   ]
  },
  {
   "cell_type": "code",
   "execution_count": null,
   "id": "5664a14a-871d-42cf-8883-5b4873804add",
   "metadata": {},
   "outputs": [],
   "source": [
    "question :- 4 Why self is used in OOPs?"
   ]
  },
  {
   "cell_type": "code",
   "execution_count": null,
   "id": "3bfcc10e-a68b-4707-aa8f-8e0a07e57800",
   "metadata": {},
   "outputs": [],
   "source": [
    "answer:- The self parameter is a reference to the current instance of the class, and is used to access variables that belongs to the class.\n",
    "\n",
    "It does not have to be named self , you can call it whatever you like, but it has to be the first parameter of any function in the class:"
   ]
  },
  {
   "cell_type": "code",
   "execution_count": null,
   "id": "f56e9949-a8d3-4a59-a906-af719c2a349c",
   "metadata": {},
   "outputs": [],
   "source": [
    " Q1. Explain Class and Object with respect to Object-Oriented Programming. Give a suitable example."
   ]
  },
  {
   "cell_type": "code",
   "execution_count": null,
   "id": "9c350195-fd8c-46e6-b559-27b0fc6b7352",
   "metadata": {},
   "outputs": [],
   "source": [
    "answer:- A class is considered as a blueprint of objects. We can think of the class as a sketch (prototype) of a house. It contains all the details about the floors, doors, windows, etc. Based on these descriptions we build the house. House is the object.\n",
    "\n",
    "Since many houses can be made from the same description, we can create many objects from a class."
   ]
  },
  {
   "cell_type": "code",
   "execution_count": null,
   "id": "bf597089-3881-4fa7-b71d-e7d067a2ad10",
   "metadata": {},
   "outputs": [],
   "source": [
    "# example \n",
    "\n",
    "# define a class\n",
    "class Bike:\n",
    "    name = \"\"\n",
    "    gear = 0\n",
    "\n",
    "# create object of class\n",
    "bike1 = Bike()\n",
    "\n",
    "# access attributes and assign new values\n",
    "bike1.gear = 11\n",
    "bike1.name = \"Mountain Bike\"\n",
    "\n",
    "print(f\"Name: {bike1.name}, Gears: {bike1.gear} \")"
   ]
  }
 ],
 "metadata": {
  "kernelspec": {
   "display_name": "Python 3 (ipykernel)",
   "language": "python",
   "name": "python3"
  },
  "language_info": {
   "codemirror_mode": {
    "name": "ipython",
    "version": 3
   },
   "file_extension": ".py",
   "mimetype": "text/x-python",
   "name": "python",
   "nbconvert_exporter": "python",
   "pygments_lexer": "ipython3",
   "version": "3.10.6"
  }
 },
 "nbformat": 4,
 "nbformat_minor": 5
}
